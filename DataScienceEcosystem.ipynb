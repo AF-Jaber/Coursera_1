{
 "cells": [
  {
   "cell_type": "markdown",
   "id": "c2be7281",
   "metadata": {},
   "source": [
    "# <center> Data Science Tools and Ecosystem</center>"
   ]
  },
  {
   "cell_type": "markdown",
   "id": "cff6b30e",
   "metadata": {},
   "source": [
    "### <font color=\"blue\">In this notebook, Data Science <strong> Tools and Ecosystem </strong> are summarized.</font>"
   ]
  },
  {
   "cell_type": "markdown",
   "id": "4443d8ba",
   "metadata": {},
   "source": [
    "## <font color=\"brown\"> Objectives:</font>\n",
    "<ul><font color=\"brown\">\n",
    "    <li>List popular languages for Data Science</li>\n",
    "    <li>List popular Data Science enviroments</li>\n",
    "    <li>evaluating some arithmetic expressions in Python</li>    \n",
    "    </font>\n",
    "</ul>"
   ]
  },
  {
   "cell_type": "markdown",
   "id": "adc5c0fe",
   "metadata": {},
   "source": [
    "#### Some of the popular languages that Data Scientists use are:"
   ]
  },
  {
   "cell_type": "markdown",
   "id": "c1325cca",
   "metadata": {},
   "source": [
    "<ol>\n",
    "    <li>Python</li>\n",
    "    <li>R</li>\n",
    "    <li>Julia</li>\n",
    "    <li>Java</li>\n",
    "\n",
    "</ol>"
   ]
  },
  {
   "cell_type": "markdown",
   "id": "8cdfc0c1",
   "metadata": {},
   "source": [
    "#### Some of the commonly used libraries used by Data Scientists include:"
   ]
  },
  {
   "cell_type": "markdown",
   "id": "62abaade",
   "metadata": {},
   "source": [
    "<ol>\n",
    "    <li>Lattice</li>\n",
    "    <li>Matplotlib</li>\n",
    "    <li>NumPy</li>\n",
    "    <li>Panda</li>\n",
    "\n",
    "</ol>"
   ]
  },
  {
   "cell_type": "markdown",
   "id": "8e37657c",
   "metadata": {},
   "source": [
    "|Data Science Tools|\n",
    "|----|\n",
    "|<center>IDEs</center>|\n",
    "|Google Cloud Platform|\n",
    "|<center>Anaconda</center>|"
   ]
  },
  {
   "cell_type": "markdown",
   "id": "eccc950e",
   "metadata": {},
   "source": [
    "#### Below are a few examples of evaluating arithmetic expressions in Python:\n"
   ]
  },
  {
   "cell_type": "code",
   "execution_count": 7,
   "id": "f133f2df",
   "metadata": {},
   "outputs": [
    {
     "name": "stdout",
     "output_type": "stream",
     "text": [
      "16.3\n"
     ]
    }
   ],
   "source": [
    "x = 15 + 1.3\n",
    "print(x)"
   ]
  },
  {
   "cell_type": "code",
   "execution_count": 5,
   "id": "e3c490cd",
   "metadata": {},
   "outputs": [
    {
     "name": "stdout",
     "output_type": "stream",
     "text": [
      "-16.3\n"
     ]
    }
   ],
   "source": [
    "y=-x\n",
    "print(y)"
   ]
  },
  {
   "cell_type": "code",
   "execution_count": 8,
   "id": "cf046a98",
   "metadata": {},
   "outputs": [
    {
     "data": {
      "text/plain": [
       "17"
      ]
     },
     "execution_count": 8,
     "metadata": {},
     "output_type": "execute_result"
    }
   ],
   "source": [
    "#This a simple arithmetic expression to mutiply then add integers\n",
    "(3*4)+5"
   ]
  },
  {
   "cell_type": "code",
   "execution_count": 9,
   "id": "05e000ff",
   "metadata": {},
   "outputs": [
    {
     "name": "stdout",
     "output_type": "stream",
     "text": [
      "hours:  3.3333333333333335\n"
     ]
    }
   ],
   "source": [
    "#This will convert 200 minutes to hours by diving by 60\n",
    "minutes=200\n",
    "hours=200/60\n",
    "print(\"hours: \",hours)"
   ]
  },
  {
   "cell_type": "markdown",
   "id": "25b9d3e8",
   "metadata": {},
   "source": [
    "## Author\n",
    "Abdulrahman Jaber"
   ]
  },
  {
   "cell_type": "code",
   "execution_count": null,
   "id": "1b1ae6d1",
   "metadata": {},
   "outputs": [],
   "source": []
  }
 ],
 "metadata": {
  "kernelspec": {
   "display_name": "Python 3 (ipykernel)",
   "language": "python",
   "name": "python3"
  },
  "language_info": {
   "codemirror_mode": {
    "name": "ipython",
    "version": 3
   },
   "file_extension": ".py",
   "mimetype": "text/x-python",
   "name": "python",
   "nbconvert_exporter": "python",
   "pygments_lexer": "ipython3",
   "version": "3.9.13"
  }
 },
 "nbformat": 4,
 "nbformat_minor": 5
}
